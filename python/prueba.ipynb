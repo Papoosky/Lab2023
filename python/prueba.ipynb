{
 "cells": [
  {
   "cell_type": "code",
   "execution_count": 2,
   "metadata": {},
   "outputs": [
    {
     "name": "stderr",
     "output_type": "stream",
     "text": [
      "C:\\Users\\tomas\\AppData\\Local\\Temp\\ipykernel_19272\\2816149837.py:7: UserWarning: pandas only supports SQLAlchemy connectable (engine/connection) or database string URI or sqlite3 DBAPI2 connection. Other DBAPI2 objects are not tested. Please consider using SQLAlchemy.\n",
      "  pd.read_sql(\"SELECT * FROM user\", conexion)\n"
     ]
    },
    {
     "data": {
      "text/html": [
       "<div>\n",
       "<style scoped>\n",
       "    .dataframe tbody tr th:only-of-type {\n",
       "        vertical-align: middle;\n",
       "    }\n",
       "\n",
       "    .dataframe tbody tr th {\n",
       "        vertical-align: top;\n",
       "    }\n",
       "\n",
       "    .dataframe thead th {\n",
       "        text-align: right;\n",
       "    }\n",
       "</style>\n",
       "<table border=\"1\" class=\"dataframe\">\n",
       "  <thead>\n",
       "    <tr style=\"text-align: right;\">\n",
       "      <th></th>\n",
       "      <th>User_id</th>\n",
       "      <th>Name</th>\n",
       "      <th>Last_name</th>\n",
       "      <th>Email</th>\n",
       "      <th>Password</th>\n",
       "      <th>Carreer</th>\n",
       "      <th>Year</th>\n",
       "      <th>Magister</th>\n",
       "      <th>Hash_user</th>\n",
       "    </tr>\n",
       "  </thead>\n",
       "  <tbody>\n",
       "    <tr>\n",
       "      <th>0</th>\n",
       "      <td>1</td>\n",
       "      <td>Tomás</td>\n",
       "      <td>Pavez</td>\n",
       "      <td>tpavez@alumnos.uai.cl</td>\n",
       "      <td>$2b$12$jloFKRgH2ETDPzrg0W.6o.h11rAbYSiyco8BMUD...</td>\n",
       "      <td>Ingeniería Civil Informática</td>\n",
       "      <td>4</td>\n",
       "      <td>0</td>\n",
       "      <td>$2b$12$jloFKRgH2ETDPzrg0W.6o.SBZMpafOrSJEKMPBA...</td>\n",
       "    </tr>\n",
       "  </tbody>\n",
       "</table>\n",
       "</div>"
      ],
      "text/plain": [
       "   User_id   Name Last_name                  Email  \\\n",
       "0        1  Tomás     Pavez  tpavez@alumnos.uai.cl   \n",
       "\n",
       "                                            Password  \\\n",
       "0  $2b$12$jloFKRgH2ETDPzrg0W.6o.h11rAbYSiyco8BMUD...   \n",
       "\n",
       "                        Carreer  Year Magister  \\\n",
       "0  Ingeniería Civil Informática     4        0   \n",
       "\n",
       "                                           Hash_user  \n",
       "0  $2b$12$jloFKRgH2ETDPzrg0W.6o.SBZMpafOrSJEKMPBA...  "
      ]
     },
     "execution_count": 2,
     "metadata": {},
     "output_type": "execute_result"
    }
   ],
   "source": [
    "import pandas as pd\n",
    "import mysql.connector\n",
    "import matplotlib.pyplot as plt\n",
    "\n",
    "conexion = mysql.connector.connect(\n",
    "        host=\"localhost\", user=\"root\", database=\"lab2023\")\n",
    "pd.read_sql(\"SELECT * FROM user\", conexion)"
   ]
  },
  {
   "cell_type": "code",
   "execution_count": 4,
   "metadata": {},
   "outputs": [
    {
     "name": "stderr",
     "output_type": "stream",
     "text": [
      "C:\\Users\\tomas\\AppData\\Local\\Temp\\ipykernel_20512\\3950188937.py:1: UserWarning: pandas only supports SQLAlchemy connectable (engine/connection) or database string URI or sqlite3 DBAPI2 connection. Other DBAPI2 objects are not tested. Please consider using SQLAlchemy.\n",
      "  pd.read_sql(\"SELECT * FROM attendance\", conexion)\n"
     ]
    },
    {
     "data": {
      "text/html": [
       "<div>\n",
       "<style scoped>\n",
       "    .dataframe tbody tr th:only-of-type {\n",
       "        vertical-align: middle;\n",
       "    }\n",
       "\n",
       "    .dataframe tbody tr th {\n",
       "        vertical-align: top;\n",
       "    }\n",
       "\n",
       "    .dataframe thead th {\n",
       "        text-align: right;\n",
       "    }\n",
       "</style>\n",
       "<table border=\"1\" class=\"dataframe\">\n",
       "  <thead>\n",
       "    <tr style=\"text-align: right;\">\n",
       "      <th></th>\n",
       "      <th>Attendance_id</th>\n",
       "      <th>Entry_date</th>\n",
       "      <th>Exit_date</th>\n",
       "      <th>Hash_user</th>\n",
       "    </tr>\n",
       "  </thead>\n",
       "  <tbody>\n",
       "    <tr>\n",
       "      <th>0</th>\n",
       "      <td>1</td>\n",
       "      <td>2023-10-29 20:04:43</td>\n",
       "      <td>NaT</td>\n",
       "      <td>$2b$12$jloFKRgH2ETDPzrg0W.6o.SBZMpafOrSJEKMPBA...</td>\n",
       "    </tr>\n",
       "    <tr>\n",
       "      <th>1</th>\n",
       "      <td>2</td>\n",
       "      <td>NaT</td>\n",
       "      <td>2023-10-29 20:05:23</td>\n",
       "      <td>$2b$12$jloFKRgH2ETDPzrg0W.6o.SBZMpafOrSJEKMPBA...</td>\n",
       "    </tr>\n",
       "    <tr>\n",
       "      <th>2</th>\n",
       "      <td>3</td>\n",
       "      <td>2023-09-01 11:55:00</td>\n",
       "      <td>NaT</td>\n",
       "      <td>$2b$12$jloFKRgH2ETDPzrg0W.6o.SBZMpafOrSJEKMPBA...</td>\n",
       "    </tr>\n",
       "    <tr>\n",
       "      <th>3</th>\n",
       "      <td>4</td>\n",
       "      <td>2023-09-01 11:55:00</td>\n",
       "      <td>NaT</td>\n",
       "      <td>$2b$12$jloFKRgH2ETDPzrg0W.6o.SBZMpafOrSJEKMPBA...</td>\n",
       "    </tr>\n",
       "    <tr>\n",
       "      <th>4</th>\n",
       "      <td>5</td>\n",
       "      <td>2023-05-01 11:55:00</td>\n",
       "      <td>NaT</td>\n",
       "      <td>$2b$12$jloFKRgH2ETDPzrg0W.6o.SBZMpafOrSJEKMPBA...</td>\n",
       "    </tr>\n",
       "  </tbody>\n",
       "</table>\n",
       "</div>"
      ],
      "text/plain": [
       "   Attendance_id          Entry_date           Exit_date  \\\n",
       "0              1 2023-10-29 20:04:43                 NaT   \n",
       "1              2                 NaT 2023-10-29 20:05:23   \n",
       "2              3 2023-09-01 11:55:00                 NaT   \n",
       "3              4 2023-09-01 11:55:00                 NaT   \n",
       "4              5 2023-05-01 11:55:00                 NaT   \n",
       "\n",
       "                                           Hash_user  \n",
       "0  $2b$12$jloFKRgH2ETDPzrg0W.6o.SBZMpafOrSJEKMPBA...  \n",
       "1  $2b$12$jloFKRgH2ETDPzrg0W.6o.SBZMpafOrSJEKMPBA...  \n",
       "2  $2b$12$jloFKRgH2ETDPzrg0W.6o.SBZMpafOrSJEKMPBA...  \n",
       "3  $2b$12$jloFKRgH2ETDPzrg0W.6o.SBZMpafOrSJEKMPBA...  \n",
       "4  $2b$12$jloFKRgH2ETDPzrg0W.6o.SBZMpafOrSJEKMPBA...  "
      ]
     },
     "execution_count": 4,
     "metadata": {},
     "output_type": "execute_result"
    }
   ],
   "source": [
    "pd.read_sql(\"SELECT * FROM attendance\", conexion)"
   ]
  }
 ],
 "metadata": {
  "kernelspec": {
   "display_name": "Python 3",
   "language": "python",
   "name": "python3"
  },
  "language_info": {
   "codemirror_mode": {
    "name": "ipython",
    "version": 3
   },
   "file_extension": ".py",
   "mimetype": "text/x-python",
   "name": "python",
   "nbconvert_exporter": "python",
   "pygments_lexer": "ipython3",
   "version": "3.11.3"
  }
 },
 "nbformat": 4,
 "nbformat_minor": 2
}
